{
  "nbformat": 4,
  "nbformat_minor": 0,
  "metadata": {
    "colab": {
      "provenance": [],
      "authorship_tag": "ABX9TyPiSlNf7BzW2GE+/XqP4UqS",
      "include_colab_link": true
    },
    "kernelspec": {
      "name": "python3",
      "display_name": "Python 3"
    },
    "language_info": {
      "name": "python"
    }
  },
  "cells": [
    {
      "cell_type": "markdown",
      "metadata": {
        "id": "view-in-github",
        "colab_type": "text"
      },
      "source": [
        "<a href=\"https://colab.research.google.com/github/amanglarus/image_classification_using-tensorflow/blob/main/classification_using_tensorflow.ipynb\" target=\"_parent\"><img src=\"https://colab.research.google.com/assets/colab-badge.svg\" alt=\"Open In Colab\"/></a>"
      ]
    },
    {
      "cell_type": "code",
      "source": [
        "from google.colab import drive\n",
        "drive.mount(‘/content/drive’)"
      ],
      "metadata": {
        "colab": {
          "base_uri": "https://localhost:8080/",
          "height": 130
        },
        "id": "DlyECQNKPppm",
        "outputId": "7f5055f9-5f41-43c9-d219-cf7f71cb5b27"
      },
      "execution_count": 1,
      "outputs": [
        {
          "output_type": "error",
          "ename": "SyntaxError",
          "evalue": "ignored",
          "traceback": [
            "\u001b[0;36m  File \u001b[0;32m\"<ipython-input-1-1ce289125e3f>\"\u001b[0;36m, line \u001b[0;32m2\u001b[0m\n\u001b[0;31m    drive.mount(‘/content/drive’)\u001b[0m\n\u001b[0m                ^\u001b[0m\n\u001b[0;31mSyntaxError\u001b[0m\u001b[0;31m:\u001b[0m invalid character in identifier\n"
          ]
        }
      ]
    },
    {
      "cell_type": "code",
      "source": [
        "!cp "
      ],
      "metadata": {
        "id": "8TqXEThNQCtk"
      },
      "execution_count": null,
      "outputs": []
    },
    {
      "cell_type": "code",
      "source": [],
      "metadata": {
        "id": "FOfkvKKKQCwH"
      },
      "execution_count": null,
      "outputs": []
    },
    {
      "cell_type": "code",
      "source": [
        "import tensorflow as tf\n",
        "from tensorflow.keras.layers import GlobalAveragePooling2D,Dense,Dropout, Activation, Flatten\n",
        "from tensorflow.keras.layers import Conv2D, MaxPool2D, ZeroPadding2D\n",
        "from tensorflow.keras.layers import BatchNormalization\n",
        "from tensorflow.keras.models import Model, Sequential"
      ],
      "metadata": {
        "id": "7jes4eSpQC1S"
      },
      "execution_count": null,
      "outputs": []
    },
    {
      "cell_type": "code",
      "source": [],
      "metadata": {
        "id": "zOkBf541aeQm"
      },
      "execution_count": null,
      "outputs": []
    },
    {
      "cell_type": "code",
      "source": [
        "NUM_CLASSES = 2\n",
        "BATCH_SIZE=32\n",
        "IMAGE_SIZE = 48\n",
        "NUM_CHANNEL = 3"
      ],
      "metadata": {
        "id": "TfsrnPgMaeS1"
      },
      "execution_count": null,
      "outputs": []
    },
    {
      "cell_type": "code",
      "source": [
        "from tensorflow.keras.preprocessing.image import ImageDataGenerator\n",
        "\n",
        "train_data_dir='/home/madan/Documents/dataset/Train'\n",
        "val_data_dir='/home/madan/Documents/dataset/Val'\n",
        "\n",
        "from keras.layers.preprocessing.image_preprocessing import HORIZONTAL\n",
        "\n",
        "train_datagen=ImageDataGenerator(rescale=1./255,\n",
        "                                 rotation_range=10,\n",
        "                                 width_shift_range=0.1,\n",
        "                                 height_shift_range=0.1,\n",
        "                                 horizontal_flip=True,\n",
        "                                 fill_mode='nearest')\n",
        "\n",
        "val_datagen=ImageDataGenerator(rescale=1./255)\n",
        "\n",
        "\n",
        "IMAGE_SHAPE = (IMAGE_SIZE, IMAGE_SIZE)\n",
        "MODEL_IMAGE_SHAPE = (IMAGE_SIZE, IMAGE_SIZE, NUM_CHANNEL)\n",
        "\n",
        "train_generator=train_datagen.flow_from_directory(train_data_dir,\n",
        "                                                  target_size=IMAGE_SHAPE,\n",
        "                                                  batch_size=BATCH_SIZE,\n",
        "                                                  class_mode='categorical')\n",
        "\n",
        "val_generator=val_datagen.flow_from_directory(val_data_dir,\n",
        "                                              target_size=IMAGE_SHAPE,\n",
        "                                              batch_size=BATCH_SIZE,\n",
        "                                              class_mode='categorical')\n",
        "\n",
        "\n",
        "\n",
        "\n"
      ],
      "metadata": {
        "id": "PCRDX1OyPk91"
      },
      "execution_count": null,
      "outputs": []
    },
    {
      "cell_type": "code",
      "source": [],
      "metadata": {
        "id": "vmgpFEkKTMYF"
      },
      "execution_count": null,
      "outputs": []
    },
    {
      "cell_type": "code",
      "source": [
        "from tensorflow.keras.applications.mobilenet import MobileNet\n",
        "from tensorflow.keras.applications.mobilenet import MobileNetV2\n",
        "\n",
        "base_model = tf.keras.applications.mobilenet_v2.MobileNetV2(\n",
        "    input_shape=MODEL_IMAGE_SHAPE,\n",
        "    alpha=1.0,\n",
        "    include_top=False,\n",
        "    #weights='imagenet',\n",
        "    #input_tensor=None,\n",
        "    #pooling=None,\n",
        "    #classes=1000,\n",
        "    #classifier_activation='softmax',\n",
        "    #**kwargs\n",
        ")\n",
        "\n",
        "for layer in base_model.layers: #base_model.layers[:-2]\n",
        "    layer.trainable = True  \n",
        "\n",
        "\n",
        "\n",
        "# penultimate_layer = model.layers[-2]\n",
        "# new_top_layer = tf.keras.layers.Dense(1)(penultimate_layer.output)  # create new FC layer and connect it to the rest of the model\n",
        "# new_model = tf.keras.models.Model(model.input, new_top_layer)\n",
        "\n",
        "\n",
        "\n",
        "# Use a Sequential model to add a trainable classifier on top\n",
        "model = keras.Sequential([\n",
        "    base_model,\n",
        "    tf.keras.layers.GlobalAveragePooling2D(),\n",
        "    tf.keras.layers.Flatten(),\n",
        "    tf.keras.layers.layers.Dense(64, activation=\"relu\"),\n",
        "    tf.keras.layers.layers.Dropout(0.2),\n",
        "    tf.keras.layers.layers.Dense(NUM_CLASSES, activation=\"softmax\"),\n",
        "])"
      ],
      "metadata": {
        "id": "_Y6FsGLvTMbA"
      },
      "execution_count": null,
      "outputs": []
    },
    {
      "cell_type": "code",
      "source": [],
      "metadata": {
        "id": "0sY4QfRETMd0"
      },
      "execution_count": null,
      "outputs": []
    },
    {
      "cell_type": "code",
      "source": [],
      "metadata": {
        "id": "QKUvSSdATMgQ"
      },
      "execution_count": null,
      "outputs": []
    },
    {
      "cell_type": "code",
      "source": [],
      "metadata": {
        "id": "3A8Mw3LXPlAN"
      },
      "execution_count": null,
      "outputs": []
    },
    {
      "cell_type": "code",
      "source": [
        "from tensorflow.keras.optimizers import RMSprop, Adam\n",
        "from tensorflow.keras.callbacks import ModelCheckpoint, EarlyStopping\n",
        "\n",
        "checkpoint = ModelCheckpoint(\"image_classification_checkpoint.h5\",\n",
        "                             monitor='val_loss',\n",
        "                             mode='min',\n",
        "                             save_best_only=True,verbose=1)\n",
        "\n",
        "earlystop = EarlyStopping(monitor='val_loss',\n",
        "                          min_delta=0,\n",
        "                          patience=2,\n",
        "                          verbose=1,\n",
        "                          restore_best_weights=True)\n",
        "\n",
        "callbacks=[checkpoint,earlystop]\n",
        "\n",
        "main_model.compile(loss='SparseCategoricalCrossentropy',\n",
        "                   optimizer=Adam(learning_rate=0.0015),\n",
        "                   metrics=['accuracy'])\n",
        "\n",
        "epochs=50\n",
        "\n",
        "batch_size = 32\n",
        "\n",
        "history = main_model.fit(train_generator,\n",
        "                        #  steps_per_epoch=num_train_samples//batch_size,\n",
        "                         epochs=epochs,\n",
        "                        #  callbacks=callbacks,\n",
        "                         validation_data=val_generator,\n",
        "                        #  validation_steps=num_val_samples//batch_size\n",
        "                         )"
      ],
      "metadata": {
        "id": "ZywXeOe_SQnj"
      },
      "execution_count": null,
      "outputs": []
    },
    {
      "cell_type": "code",
      "source": [],
      "metadata": {
        "id": "4f2YbVV3SQp6"
      },
      "execution_count": null,
      "outputs": []
    }
  ]
}